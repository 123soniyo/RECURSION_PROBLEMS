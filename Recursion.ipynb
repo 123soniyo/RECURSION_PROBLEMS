{
 "cells": [
  {
   "cell_type": "code",
   "execution_count": 7,
   "id": "39fb4faf",
   "metadata": {},
   "outputs": [
    {
     "name": "stdout",
     "output_type": "stream",
     "text": [
      "45\n",
      "0\n"
     ]
    }
   ],
   "source": [
    "# sum of digits\n",
    "def recurSum(n,m):\n",
    "    if :\n",
    "        return n\n",
    "    return (n % 10 * recurSum(int(n / 10)))\n",
    " \n",
    "# Driver code\n",
    "n = int(input())\n",
    "print(recurSum(n))\n",
    "\n"
   ]
  },
  {
   "cell_type": "code",
   "execution_count": null,
   "id": "23a848ea",
   "metadata": {},
   "outputs": [],
   "source": []
  },
  {
   "cell_type": "code",
   "execution_count": 14,
   "id": "f567f8aa",
   "metadata": {},
   "outputs": [
    {
     "name": "stdout",
     "output_type": "stream",
     "text": [
      "0\n",
      "0\n",
      "0\n"
     ]
    }
   ],
   "source": [
    "def product( x , y ):\n",
    "    if x < y:\n",
    "        return product(y, x)\n",
    "    \n",
    "    elif y != 0:\n",
    "        return (x + product(x, y - 1))\n",
    "    \n",
    "    else:\n",
    "        return 0\n",
    " \n",
    "x =int(input())\n",
    "y = int(input())\n",
    "print( product(x, y))"
   ]
  },
  {
   "cell_type": "code",
   "execution_count": 16,
   "id": "e7bfaede",
   "metadata": {},
   "outputs": [
    {
     "name": "stdout",
     "output_type": "stream",
     "text": [
      "1231\n",
      "1231\n"
     ]
    }
   ],
   "source": [
    "def stringToInt(str):\n",
    " \n",
    "    if (len(str) == 1):\n",
    "        return ord(str[0]) - ord('0');\n",
    " \n",
    "    y = stringToInt(str[1:]);\n",
    "    x = ord(str[0]) - ord('0');\n",
    "    x = x * (10**(len(str) - 1)) + y;\n",
    "    return int(x);\n",
    " \n",
    "# Driver code\n",
    "if __name__ == '__main__':\n",
    "    str = input()\n",
    "    print(stringToInt(str));"
   ]
  },
  {
   "cell_type": "code",
   "execution_count": null,
   "id": "e6434465",
   "metadata": {},
   "outputs": [],
   "source": []
  }
 ],
 "metadata": {
  "kernelspec": {
   "display_name": "Python 3",
   "language": "python",
   "name": "python3"
  },
  "language_info": {
   "codemirror_mode": {
    "name": "ipython",
    "version": 3
   },
   "file_extension": ".py",
   "mimetype": "text/x-python",
   "name": "python",
   "nbconvert_exporter": "python",
   "pygments_lexer": "ipython3",
   "version": "3.8.8"
  }
 },
 "nbformat": 4,
 "nbformat_minor": 5
}
